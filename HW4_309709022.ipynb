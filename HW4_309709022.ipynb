{
 "cells": [
  {
   "cell_type": "code",
   "execution_count": 1,
   "id": "5440e801",
   "metadata": {},
   "outputs": [],
   "source": [
    "###########\n",
    "# 載入套件 #\n",
    "###########\n",
    "import findspark\n",
    "findspark.init()\n",
    "import pyspark\n",
    "findspark.find()\n",
    "import pandas as pd\n",
    "from pyspark import SparkConf\n",
    "from pyspark.sql import  SparkSession\n",
    "from pyspark.sql.functions import *\n",
    "from pyspark.sql.types import *\n",
    "from pyspark.ml.feature import OneHotEncoder, StringIndexer, VectorAssembler,StandardScaler\n",
    "from pyspark.ml import Pipeline\n",
    "from pyspark.ml.classification import LogisticRegression\n",
    "from pyspark.ml.evaluation import MulticlassClassificationEvaluator\n",
    "conf = SparkConf()\n",
    "conf.set('spark.executor.memory', '32g')\n",
    "spark = SparkSession.builder \\\n",
    "        .config(conf=conf) \\\n",
    "        .appName('test') \\\n",
    "        .getOrCreate()"
   ]
  },
  {
   "cell_type": "code",
   "execution_count": 2,
   "id": "e62f191c",
   "metadata": {},
   "outputs": [],
   "source": [
    "############################\n",
    "# 建立Spark相關語法&讀取資料 #\n",
    "############################\n",
    "data1 = spark.read.csv('./2003.csv', header = True, sep = ',',inferSchema=True)\n",
    "data2 = spark.read.csv(\"./2004.csv\", header = True, sep = \",\",inferSchema=True)\n",
    "train_data = data2.union(data1)\n",
    "valid_data = spark.read.csv('./2005.csv', header = True, sep = ',',inferSchema=True)"
   ]
  },
  {
   "cell_type": "code",
   "execution_count": 3,
   "id": "a6e14550",
   "metadata": {},
   "outputs": [],
   "source": [
    "#######################\n",
    "# 定義Target variable #\n",
    "#######################\n",
    "train_data = train_data.withColumn('Delay', \n",
    "when((train_data.ArrDelay <0) & (train_data.DepDelay<0), 1).otherwise(0))\n",
    "valid_data = valid_data.withColumn('Delay', \n",
    "when((valid_data.ArrDelay <0) & (valid_data.DepDelay<0), 1).otherwise(0))"
   ]
  },
  {
   "cell_type": "code",
   "execution_count": 4,
   "id": "79d33b96",
   "metadata": {},
   "outputs": [],
   "source": [
    "#####################################\n",
    "# 找出本次要使用的欄位並進行缺失值填補 #\n",
    "#####################################\n",
    "target = [\"Delay\"]\n",
    "numeric = ['Year', 'Month', 'DayofMonth', 'DayOfWeek', 'CRSDepTime', 'CRSArrTime', 'CRSElapsedTime', 'Distance']\n",
    "category = ['UniqueCarrier', 'FlightNum', 'TailNum', 'Origin', 'Dest', 'Cancelled']\n",
    "train_data = train_data.select(list(target+numeric+category))\n",
    "valid_data = valid_data.select(list(target+numeric+category))\n",
    "\n",
    "def fill_null(df):\n",
    "    for col in numeric:\n",
    "        df = df.withColumn(col, df[col].cast('double'))\n",
    "        mean = df.select(col).agg({col:'mean'}).collect()[0][0]\n",
    "        df = df.withColumn(col, when(df[col].isNull(), mean).otherwise(df[col]))\n",
    "    for col in category:\n",
    "        freq = df.select(col).groupby(col).count().orderBy('count', ascending=False).limit(1).collect()[0][0]\n",
    "        df = df.withColumn(col, when((df[col].isNull() | (df[col] == '')), freq).otherwise(df[col]))\n",
    "    return df\n",
    "\n",
    "train_data = fill_null(train_data)\n",
    "valid_data = fill_null(valid_data)"
   ]
  },
  {
   "cell_type": "code",
   "execution_count": 5,
   "id": "5be3f81a",
   "metadata": {},
   "outputs": [
    {
     "data": {
      "text/plain": [
       "13617810"
      ]
     },
     "execution_count": 5,
     "metadata": {},
     "output_type": "execute_result"
    }
   ],
   "source": [
    "train_data.count()"
   ]
  },
  {
   "cell_type": "code",
   "execution_count": 6,
   "id": "ba386d49",
   "metadata": {},
   "outputs": [
    {
     "data": {
      "text/plain": [
       "7140596"
      ]
     },
     "execution_count": 6,
     "metadata": {},
     "output_type": "execute_result"
    }
   ],
   "source": [
    "valid_data.count()"
   ]
  },
  {
   "cell_type": "code",
   "execution_count": 7,
   "id": "98f3a823",
   "metadata": {},
   "outputs": [],
   "source": [
    "for c in category:\n",
    "    ls = [i.__getitem__(c) for i in train_data.select(c).distinct().collect()]\n",
    "    valid_data = valid_data.filter(valid_data[c].isin(ls))"
   ]
  },
  {
   "cell_type": "code",
   "execution_count": 8,
   "id": "3bc129e1",
   "metadata": {},
   "outputs": [],
   "source": [
    "# ls = [i.__getitem__('UniqueCarrier') for i in train_data.select('UniqueCarrier').distinct().collect()]"
   ]
  },
  {
   "cell_type": "code",
   "execution_count": 9,
   "id": "a4b1a514",
   "metadata": {},
   "outputs": [
    {
     "data": {
      "text/plain": [
       "6852952"
      ]
     },
     "execution_count": 9,
     "metadata": {},
     "output_type": "execute_result"
    }
   ],
   "source": [
    "valid_data.count()"
   ]
  },
  {
   "cell_type": "code",
   "execution_count": 10,
   "id": "8fa0720a",
   "metadata": {},
   "outputs": [
    {
     "name": "stdout",
     "output_type": "stream",
     "text": [
      "+-----+-------+\n",
      "|Delay|  count|\n",
      "+-----+-------+\n",
      "|    1|4623786|\n",
      "|    0|8994024|\n",
      "+-----+-------+\n",
      "\n"
     ]
    }
   ],
   "source": [
    "train_data.groupby(\"Delay\").count().show()"
   ]
  },
  {
   "cell_type": "code",
   "execution_count": 11,
   "id": "842791a4",
   "metadata": {},
   "outputs": [],
   "source": [
    "################\n",
    "# Oversampling #\n",
    "################\n",
    "\n",
    "# major_df = train_data.filter(col(\"Delay\") == 0)\n",
    "# minor_df = train_data.filter(col(\"Delay\") == 1)\n",
    "# ratio = major_df.count()/minor_df.count()-1\n",
    "# oversampled_df = minor_df.sample(False, ratio,7)\n",
    "# train_data2 = major_df.union(oversampled_df)\n",
    "# train_data = train_data2.union(minor_df)"
   ]
  },
  {
   "cell_type": "code",
   "execution_count": 12,
   "id": "071bb51a",
   "metadata": {},
   "outputs": [
    {
     "name": "stdout",
     "output_type": "stream",
     "text": [
      "+-----+-------+\n",
      "|Delay|  count|\n",
      "+-----+-------+\n",
      "|    1|8994575|\n",
      "|    0|8994024|\n",
      "+-----+-------+\n",
      "\n"
     ]
    }
   ],
   "source": [
    "# train_data.groupby(\"Delay\").count().show()"
   ]
  },
  {
   "cell_type": "code",
   "execution_count": 13,
   "id": "dab28cbe",
   "metadata": {},
   "outputs": [],
   "source": [
    "#######################################\n",
    "# 針對category欄位進行one_hot_encoding #\n",
    "#######################################\n",
    "def preprocessing(df):\n",
    "    indexer = [StringIndexer(inputCol=col,outputCol=\"{}_index\".format(col))for col in category]\n",
    "    encoder = [OneHotEncoder(inputCol=\"{}_index\".format(col),outputCol=\"{}_one_hot\".format(col)) for col in category]\n",
    "    assembler = VectorAssembler(inputCols = numeric +[\"{}_one_hot\".format(col) for col in category],outputCol = \"features\")\n",
    "    preprocessor = Pipeline(stages = indexer + encoder+[assembler]).fit(df)\n",
    "    return preprocessor\n"
   ]
  },
  {
   "cell_type": "code",
   "execution_count": 14,
   "id": "47cd114c",
   "metadata": {},
   "outputs": [],
   "source": [
    "preprocessor = preprocessing(train_data)\n",
    "train_data = preprocessor.transform(train_data)\n",
    "valid_data = preprocessor.transform(valid_data)"
   ]
  },
  {
   "cell_type": "code",
   "execution_count": 15,
   "id": "d8d4af79",
   "metadata": {},
   "outputs": [],
   "source": [
    "lr = LogisticRegression(maxIter=10^3,regParam=0.1,featuresCol=\"features\",\n",
    "labelCol=\"Delay\")\n",
    "lrmodel = lr.fit(train_data)\n",
    "train_pred = lrmodel.transform(train_data)\n",
    "valid_pred = lrmodel.transform(valid_data)"
   ]
  },
  {
   "cell_type": "code",
   "execution_count": 16,
   "id": "c60376db",
   "metadata": {},
   "outputs": [],
   "source": [
    "eval_precision = MulticlassClassificationEvaluator(labelCol=\"Delay\", predictionCol=\"prediction\", metricName=\"precisionByLabel\")\n",
    "eval_recall = MulticlassClassificationEvaluator(labelCol=\"Delay\", predictionCol=\"prediction\", metricName=\"recallByLabel\")\n",
    "eval_f1 = MulticlassClassificationEvaluator(labelCol=\"Delay\", predictionCol=\"prediction\", metricName=\"f1\")\n",
    "eval_accuracy = MulticlassClassificationEvaluator(labelCol=\"Delay\", predictionCol=\"prediction\", metricName=\"accuracy\")"
   ]
  },
  {
   "cell_type": "code",
   "execution_count": 17,
   "id": "0423794e",
   "metadata": {},
   "outputs": [
    {
     "name": "stdout",
     "output_type": "stream",
     "text": [
      "train_precision:  0.9279557072862297\n",
      "train_recall:  0.3322259313517509\n",
      "train_f1score:  0.6133910193234708\n",
      "train_auc:  0.6532269689262626\n",
      "valid_precision:  0.8619001015110084\n",
      "valid_recall:  0.3108978472182377\n",
      "valid_f1score:  0.4878977598721202\n",
      "valid_accuracy:  0.507643129559349\n"
     ]
    }
   ],
   "source": [
    "# ################################\n",
    "# # training result OverSampling #\n",
    "# ################################\n",
    "# print(\"train_precision: \",eval_precision.evaluate(train_pred))\n",
    "# print(\"train_recall: \",eval_recall.evaluate(train_pred))\n",
    "# print(\"train_f1score: \",eval_f1.evaluate(train_pred))\n",
    "# print(\"train_auc: \",eval_accuracy.evaluate(train_pred))\n",
    "# ##############################\n",
    "# # valid result  OverSampling #\n",
    "# ##############################\n",
    "# print(\"valid_precision: \",eval_precision.evaluate(valid_pred))\n",
    "# print(\"valid_recall: \",eval_recall.evaluate(valid_pred))\n",
    "# print(\"valid_f1score: \", eval_f1.evaluate(valid_pred))\n",
    "# print(\"valid_accuracy: \",eval_accuracy.evaluate(valid_pred))"
   ]
  },
  {
   "cell_type": "code",
   "execution_count": null,
   "id": "1bcd005e",
   "metadata": {},
   "outputs": [
    {
     "name": "stdout",
     "output_type": "stream",
     "text": [
      "train_precision:  0.6789184943257511\n",
      "train_recall:  0.9615665913277527\n",
      "train_f1score:  0.5915148567029522\n",
      "train_auc:  0.6742689169550757\n",
      "valid_precision:  0.6792266763454395\n",
      "valid_recall:  0.9630940122349099\n",
      "valid_f1score:  0.583343397244667\n",
      "valid_accuracy:  0.6723429552694955\n"
     ]
    }
   ],
   "source": [
    "###################\n",
    "# training result #\n",
    "###################\n",
    "print(\"train_precision: \",eval_precision.evaluate(train_pred))\n",
    "print(\"train_recall: \",eval_recall.evaluate(train_pred))\n",
    "print(\"train_f1score: \",eval_f1.evaluate(train_pred))\n",
    "print(\"train_auc: \",eval_accuracy.evaluate(train_pred))\n",
    "################\n",
    "# valid result #\n",
    "################\n",
    "print(\"valid_precision: \",eval_precision.evaluate(valid_pred))\n",
    "print(\"valid_recall: \",eval_recall.evaluate(valid_pred))\n",
    "print(\"valid_f1score: \", eval_f1.evaluate(valid_pred))\n",
    "print(\"valid_accuracy: \",eval_accuracy.evaluate(valid_pred))\n"
   ]
  },
  {
   "cell_type": "code",
   "execution_count": null,
   "id": "327e974b",
   "metadata": {},
   "outputs": [],
   "source": [
    "df = valid_pred.select(\"Delay\",\"prediction\")"
   ]
  },
  {
   "cell_type": "code",
   "execution_count": null,
   "id": "6e703476",
   "metadata": {},
   "outputs": [],
   "source": [
    "df = df.withColumn(\"confusion\", when((df.Delay==1)&(df.prediction==1),\"TN\")\n",
    ".when((df.Delay==0)&(df.prediction==1),\"FN\")\n",
    ".when((df.Delay==0)&(df.prediction==0),\"TP\")\n",
    ".when((df.Delay==1)&(df.prediction==0),\"FP\"))"
   ]
  },
  {
   "cell_type": "code",
   "execution_count": null,
   "id": "bc0703db",
   "metadata": {},
   "outputs": [
    {
     "name": "stdout",
     "output_type": "stream",
     "text": [
      "+---------+-------+\n",
      "|confusion|  count|\n",
      "+---------+-------+\n",
      "|       TP|4307252|\n",
      "|       TN| 296022|\n",
      "|       FN| 259026|\n",
      "|       FP|1990652|\n",
      "+---------+-------+\n",
      "\n"
     ]
    }
   ],
   "source": [
    "df.groupBy(\"confusion\").count().show()"
   ]
  }
 ],
 "metadata": {
  "interpreter": {
   "hash": "bddf4b6c10eb781d9f1e37745dbcdf59b8a6614197eca85e88e9917970f4b909"
  },
  "kernelspec": {
   "display_name": "Python 3.8.11 ('mds')",
   "language": "python",
   "name": "python3"
  },
  "language_info": {
   "codemirror_mode": {
    "name": "ipython",
    "version": 3
   },
   "file_extension": ".py",
   "mimetype": "text/x-python",
   "name": "python",
   "nbconvert_exporter": "python",
   "pygments_lexer": "ipython3",
   "version": "3.8.11"
  }
 },
 "nbformat": 4,
 "nbformat_minor": 5
}
